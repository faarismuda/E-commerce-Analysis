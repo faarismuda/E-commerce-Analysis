{
  "cells": [
    {
      "cell_type": "markdown",
      "metadata": {
        "id": "H9wADwK78DCz"
      },
      "source": [
        "# Proyek Analisis Data: E-Commerce Public Dataset\n",
        "- **Nama:** Faaris Muda Dwi Nugraha\n",
        "- **Email:** faarismudadwinugraha@gmail.com / faarismudawork@gmail.com\n",
        "- **ID Dicoding:** faarismuda"
      ]
    },
    {
      "cell_type": "markdown",
      "metadata": {
        "id": "eE0raob58DC0"
      },
      "source": [
        "## Menentukan Pertanyaan Bisnis"
      ]
    },
    {
      "cell_type": "markdown",
      "metadata": {
        "id": "GmQeQ5YF8DC0"
      },
      "source": [
        "- ***Bagaimana distribusi penjualan produk berdasarkan kategori dan lokasi geografis (kota) selama tahun 2017?***\n",
        "    - **Specific**: Fokus pada penjualan produk, kategori produk, dan lokasi geografis (kota).\n",
        "    - **Measurable**: Dapat diukur dengan menghitung jumlah penjualan atau revenue per kategori produk di setiap kota.\n",
        "    - **Action-oriented**: Membantu dalam mengidentifikasi kategori produk yang populer di setiap kota dan merencanakan strategi penjualan yang lebih terarah, misalnya dengan menyesuaikan stok barang atau promosi di setiap wilayah.\n",
        "    - **Relevant**: Relevan untuk memahami performa penjualan dan potensi pasar di berbagai wilayah.\n",
        "    - **Time-bound**: Difokuskan pada data penjualan selama tahun 2017.\n",
        "\n",
        "- ***Berapa rata-rata waktu pengiriman produk dari penjual ke pelanggan, dan bagaimana pengaruh jarak geografis antara penjual dan pelanggan terhadap waktu pengiriman tersebut?***\n",
        "    - **Specific**: Fokus pada waktu pengiriman produk dan pengaruh jarak geografis.\n",
        "    - **Measurable**: Dapat diukur dengan menghitung rata-rata waktu pengiriman dan menganalisis korelasi antara jarak dan waktu pengiriman.\n",
        "    - **Action-oriented**: Membantu dalam mengidentifikasi area dengan waktu pengiriman yang lama dan mengevaluasi efisiensi pengiriman. Dapat digunakan untuk mengoptimalkan strategi logistik, misalnya dengan mencari alternatif jasa pengiriman atau menempatkan gudang di lokasi yang strategis.\n",
        "    - **Relevant**: Relevan untuk meningkatkan efisiensi operasional dan kepuasan pelanggan.\n",
        "    - **Time-bound**: Data yang digunakan mencakup seluruh periode dalam dataset.\n",
        "\n",
        "- ***Bagaimana skor ulasan produk berhubungan dengan harga produk dan kategori produk? Apakah produk dengan harga lebih tinggi cenderung mendapatkan skor ulasan yang lebih tinggi?***\n",
        "    - **Specific**: Fokus pada hubungan antara skor ulasan, harga produk, dan kategori produk.\n",
        "    - **Measurable**: Dapat diukur dengan menganalisis korelasi antara skor ulasan dan harga produk, serta membandingkan rata-rata skor ulasan untuk setiap kategori produk.\n",
        "    - **Action-oriented**: Membantu dalam memahami faktor-faktor yang memengaruhi kepuasan pelanggan dan menentukan strategi penetapan harga yang tepat.\n",
        "    - **Relevant**: Relevan untuk meningkatkan kualitas produk dan memaksimalkan kepuasan pelanggan.\n",
        "    - **Time-bound**: Data yang digunakan mencakup seluruh periode dalam dataset.\n",
        "\n",
        "- ***Bagaimana karakteristik pelanggan (lokasi, riwayat pembelian) yang memberikan ulasan positif dan ulasan negatif?***\n",
        "    - **Specific**: Fokus pada karakteristik pelanggan yang memberikan ulasan positif dan negatif.\n",
        "    - **Measurable**: Dapat diukur dengan menganalisis data demografi pelanggan, riwayat pembelian, dan skor ulasan.\n",
        "    - **Action-oriented**: Membantu dalam mengidentifikasi segmen pelanggan yang puas dan tidak puas, serta merencanakan strategi untuk meningkatkan kepuasan pelanggan.\n",
        "    - **Relevant**: Relevan untuk memahami kebutuhan dan preferensi pelanggan.\n",
        "    - **Time-bound**: Data yang digunakan mencakup seluruh periode dalam dataset.\n"
      ]
    },
    {
      "cell_type": "markdown",
      "metadata": {
        "id": "H-z4QGlO8DC1"
      },
      "source": [
        "## Import Semua Packages/Library yang Digunakan"
      ]
    },
    {
      "cell_type": "code",
      "execution_count": null,
      "metadata": {
        "id": "FVYwaObI8DC1"
      },
      "outputs": [],
      "source": [
        "import pandas as pd"
      ]
    },
    {
      "cell_type": "markdown",
      "metadata": {
        "id": "h_Sh51Xy8DC1"
      },
      "source": [
        "## Data Wrangling"
      ]
    },
    {
      "cell_type": "markdown",
      "metadata": {
        "id": "sXU2GBYu8DC1"
      },
      "source": [
        "### Gathering Data"
      ]
    },
    {
      "cell_type": "code",
      "execution_count": null,
      "metadata": {
        "id": "zjCBk1BI8DC1"
      },
      "outputs": [],
      "source": [
        "# Baca data dari file CSV\n",
        "customers_df = pd.read_csv(\"Dataset/customers_dataset.csv\")\n",
        "geolocation_df = pd.read_csv(\"Dataset/geolocation_dataset.csv\")\n",
        "order_items_df = pd.read_csv(\"Dataset/order_items_dataset.csv\")\n",
        "order_payments_df = pd.read_csv(\"Dataset/order_payments_dataset.csv\")\n",
        "order_reviews_df = pd.read_csv(\"Dataset/order_reviews_dataset.csv\")\n",
        "orders_df = pd.read_csv(\"Dataset/orders_dataset.csv\")\n",
        "product_category_name_translation_df = pd.read_csv(\"Dataset/product_category_name_translation.csv\")\n",
        "products_df = pd.read_csv(\"Dataset/products_dataset.csv\")\n",
        "sellers_df = pd.read_csv(\"Dataset/sellers_dataset.csv\")"
      ]
    },
    {
      "cell_type": "code",
      "execution_count": null,
      "metadata": {
        "id": "pCCJBGSxiNOm"
      },
      "outputs": [],
      "source": [
        "# --- Pertanyaan 1: Distribusi penjualan berdasarkan kategori dan lokasi ---\n",
        "# Gabungkan order_items dengan products\n",
        "sales_df = pd.merge(order_items_df, products_df, on='product_id')\n",
        "\n",
        "# Gabungkan dengan orders\n",
        "sales_df = pd.merge(sales_df, orders_df, on='order_id')\n",
        "\n",
        "# Gabungkan dengan customers\n",
        "sales_df = pd.merge(sales_df, customers_df, on='customer_id')\n",
        "\n",
        "\n",
        "# --- Pertanyaan 2: Waktu pengiriman dan pengaruh jarak ---\n",
        "# Gabungkan orders dengan order_items\n",
        "delivery_df = pd.merge(orders_df, order_items_df, on='order_id')\n",
        "\n",
        "# Gabungkan dengan sellers\n",
        "delivery_df = pd.merge(delivery_df, sellers_df, on='seller_id')\n",
        "\n",
        "# Gabungkan dengan customers\n",
        "delivery_df = pd.merge(delivery_df, customers_df, on='customer_id')\n",
        "\n",
        "# Gabungkan dengan geolocation (2 kali, untuk seller dan customer)\n",
        "delivery_df = pd.merge(delivery_df, geolocation_df,\n",
        "                       left_on='seller_zip_code_prefix', right_on='geolocation_zip_code_prefix',\n",
        "                       suffixes=('_seller', '_customer'))\n",
        "\n",
        "delivery_df = pd.merge(delivery_df, geolocation_df,\n",
        "                       left_on='customer_zip_code_prefix', right_on='geolocation_zip_code_prefix',\n",
        "                       suffixes=('_seller', '_customer'))\n",
        "\n",
        "\n",
        "# --- Pertanyaan 3: Hubungan skor ulasan, harga, dan kategori produk ---\n",
        "# Gabungkan order_reviews dengan order_items\n",
        "reviews_df = pd.merge(order_reviews_df, order_items_df, on='order_id')\n",
        "\n",
        "# Gabungkan dengan products\n",
        "reviews_df = pd.merge(reviews_df, products_df, on='product_id')\n",
        "\n",
        "\n",
        "# --- Pertanyaan 4: Karakteristik pelanggan dan ulasan ---\n",
        "# Gabungkan order_reviews dengan orders\n",
        "customer_reviews_df = pd.merge(order_reviews_df, orders_df, on='order_id')\n",
        "\n",
        "# Gabungkan dengan customers\n",
        "customer_reviews_df = pd.merge(customer_reviews_df, customers_df, on='customer_id')"
      ]
    },
    {
      "cell_type": "code",
      "execution_count": null,
      "metadata": {
        "id": "wwdlR9dZiNOn"
      },
      "outputs": [],
      "source": [
        "# --- Tampilkan beberapa baris pertama dari setiap DataFrame ---\n",
        "print(\"Sales DataFrame:\")\n",
        "print(sales_df.head())\n",
        "\n",
        "print(\"\\nDelivery DataFrame:\")\n",
        "print(delivery_df.head())\n",
        "\n",
        "print(\"\\nReviews DataFrame:\")\n",
        "print(reviews_df.head())\n",
        "\n",
        "print(\"\\nCustomer Reviews DataFrame:\")\n",
        "print(customer_reviews_df.head())"
      ]
    },
    {
      "cell_type": "markdown",
      "metadata": {
        "id": "MMi6xGaDkbCi"
      },
      "source": [
        "**Insight:**\n",
        "- xxx\n",
        "- xxx"
      ]
    },
    {
      "cell_type": "markdown",
      "metadata": {
        "id": "FHSiqaZp8DC1"
      },
      "source": [
        "### Assessing Data"
      ]
    },
    {
      "cell_type": "code",
      "execution_count": null,
      "metadata": {
        "id": "ax-3tEjc9Cj1"
      },
      "outputs": [],
      "source": []
    },
    {
      "cell_type": "markdown",
      "metadata": {
        "id": "7dtxhAPrkhPL"
      },
      "source": [
        "**Insight:**\n",
        "- xxx\n",
        "- xxx"
      ]
    },
    {
      "cell_type": "markdown",
      "metadata": {
        "id": "EhN5R4hr8DC1"
      },
      "source": [
        "### Cleaning Data"
      ]
    },
    {
      "cell_type": "code",
      "execution_count": null,
      "metadata": {
        "id": "jVnYpprE9Evz"
      },
      "outputs": [],
      "source": []
    },
    {
      "cell_type": "markdown",
      "metadata": {
        "id": "Q_5ejIqckiSP"
      },
      "source": [
        "**Insight:**\n",
        "- xxx\n",
        "- xxx"
      ]
    },
    {
      "cell_type": "markdown",
      "metadata": {
        "id": "gp-Y6wU38DC1"
      },
      "source": [
        "## Exploratory Data Analysis (EDA)"
      ]
    },
    {
      "cell_type": "markdown",
      "metadata": {
        "id": "MW7WF2kr8DC1"
      },
      "source": [
        "### Explore ..."
      ]
    },
    {
      "cell_type": "code",
      "execution_count": null,
      "metadata": {
        "id": "e9CQCZjk8DC2"
      },
      "outputs": [],
      "source": []
    },
    {
      "cell_type": "markdown",
      "metadata": {
        "id": "th_Lzl2Fkj9O"
      },
      "source": [
        "**Insight:**\n",
        "- xxx\n",
        "- xxx"
      ]
    },
    {
      "cell_type": "markdown",
      "metadata": {
        "id": "zsyZjqak8DC2"
      },
      "source": [
        "## Visualization & Explanatory Analysis"
      ]
    },
    {
      "cell_type": "markdown",
      "metadata": {
        "id": "HZxOiQ6n8DC2"
      },
      "source": [
        "### Pertanyaan 1:"
      ]
    },
    {
      "cell_type": "code",
      "execution_count": null,
      "metadata": {
        "id": "1swJUdAD8DC2"
      },
      "outputs": [],
      "source": []
    },
    {
      "cell_type": "markdown",
      "metadata": {
        "id": "DgHI7CiU8DC2"
      },
      "source": [
        "### Pertanyaan 2:"
      ]
    },
    {
      "cell_type": "code",
      "execution_count": null,
      "metadata": {
        "id": "Go0lCsvO8DC2"
      },
      "outputs": [],
      "source": []
    },
    {
      "cell_type": "markdown",
      "metadata": {
        "id": "_0-36BDLklRg"
      },
      "source": [
        "**Insight:**\n",
        "- xxx\n",
        "- xxx"
      ]
    },
    {
      "cell_type": "markdown",
      "metadata": {
        "id": "9y4VUsmcYNZ5"
      },
      "source": [
        "## Analisis Lanjutan (Opsional)"
      ]
    },
    {
      "cell_type": "code",
      "execution_count": null,
      "metadata": {
        "id": "iWhnzsJGYUCO"
      },
      "outputs": [],
      "source": []
    },
    {
      "cell_type": "markdown",
      "metadata": {
        "id": "_WeHlCeX8DC2"
      },
      "source": [
        "## Conclusion"
      ]
    },
    {
      "cell_type": "markdown",
      "metadata": {
        "id": "ZTcyR48Y8DC2"
      },
      "source": [
        "- Conclution pertanyaan 1\n",
        "- Conclution pertanyaan 2"
      ]
    }
  ],
  "metadata": {
    "colab": {
      "provenance": []
    },
    "kernelspec": {
      "display_name": "Python 3",
      "language": "python",
      "name": "python3"
    },
    "language_info": {
      "codemirror_mode": {
        "name": "ipython",
        "version": 3
      },
      "file_extension": ".py",
      "mimetype": "text/x-python",
      "name": "python",
      "nbconvert_exporter": "python",
      "pygments_lexer": "ipython3",
      "version": "3.11.9"
    },
    "orig_nbformat": 4,
    "vscode": {
      "interpreter": {
        "hash": "972b3bf27e332e87b5379f2791f6ef9dfc79c71018c370b0d7423235e20fe4d7"
      }
    }
  },
  "nbformat": 4,
  "nbformat_minor": 0
}