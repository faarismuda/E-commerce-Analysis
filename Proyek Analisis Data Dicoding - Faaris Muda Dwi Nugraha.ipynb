{
  "cells": [
    {
      "cell_type": "markdown",
      "metadata": {
        "id": "H9wADwK78DCz"
      },
      "source": [
        "# Proyek Analisis Data: E-Commerce Public Dataset\n",
        "- **Nama:** Faaris Muda Dwi Nugraha\n",
        "- **Email:** faarismudadwinugraha@gmail.com / faarismudawork@gmail.com\n",
        "- **ID Dicoding:** faarismuda"
      ]
    },
    {
      "cell_type": "markdown",
      "metadata": {
        "id": "eE0raob58DC0"
      },
      "source": [
        "## Menentukan Pertanyaan Bisnis"
      ]
    },
    {
      "cell_type": "markdown",
      "metadata": {
        "id": "GmQeQ5YF8DC0"
      },
      "source": [
        "**1. \"Bagaimana performa rata-rata waktu pengiriman di tiap kota pada tahun 2017, dan apakah ada kota dengan waktu pengiriman lebih dari 10 hari yang dapat memperburuk kepuasan pelanggan?\"**\n",
        "\n",
        "- **Specific**: Fokus pada analisis waktu pengiriman di tiap kota pada tahun 2017.\n",
        "- **Measurable**: Mengukur rata-rata waktu pengiriman dan identifikasi kota dengan waktu pengiriman lebih dari 10 hari.\n",
        "- **Action-oriented**: Dapat digunakan untuk mengidentifikasi area yang memerlukan perbaikan dalam hal logistik dan pengiriman.\n",
        "- **Relevant**: Mengoptimalkan waktu pengiriman untuk meningkatkan pengalaman pelanggan dan kepuasan.\n",
        "- **Time-bound**: Membatasi analisis pada tahun 2017.\n",
        "\n",
        "**Teknik Analisis Lanjutan**:\n",
        "- **Geospatial Analysis**: Menganalisis lokasi dan waktu pengiriman menggunakan data dari `orders_dataset.csv` dan `geolocation_dataset.csv`.\n",
        "    - Membuat **heatmap** untuk menunjukkan waktu pengiriman di setiap kota.\n",
        "    - Menghitung **rata-rata waktu pengiriman** per kota dan mengidentifikasi **outlier**.\n",
        "\n",
        "\n",
        "**2. \"Apa hubungan antara frekuensi pembelian pelanggan dan total pengeluaran mereka di tahun 2017, dan bagaimana pola ini memengaruhi segmentasi pelanggan yang paling menguntungkan?\"**\n",
        "\n",
        "- **Specific**: Fokus pada analisis frekuensi pembelian dan total pengeluaran pelanggan di tahun 2017.\n",
        "- **Measurable**: Menghitung frekuensi pembelian dan total pengeluaran pelanggan.\n",
        "- **Action-oriented**: Membantu dalam membuat strategi pemasaran yang ditujukan untuk segmen pelanggan yang menguntungkan.\n",
        "- **Relevant**: Penting untuk strategi retensi pelanggan dan peningkatan pendapatan.\n",
        "- **Time-bound**: Fokus pada data tahun 2017.\n",
        "\n",
        "**Teknik Analisis Lanjutan**:\n",
        "- **RFM Analysis**: Mengukur **recency**, **frequency**, dan **monetary** untuk memahami segmentasi pelanggan berdasarkan perilaku pembelian.\n",
        "    - Menganalisis data `orders_dataset.csv` dan `order_items_dataset.csv` untuk menghitung **frekuensi** dan **total pengeluaran**.\n",
        "    - Segmentasi pelanggan berdasarkan frekuensi pembelian dan total pengeluaran untuk mengidentifikasi kelompok yang paling menguntungkan.\n",
        "\n",
        "\n",
        "**3. \"Produk kategori mana yang memberikan kontribusi terbesar terhadap pendapatan perusahaan selama Q1 2017, dan apakah ada kategori dengan tingkat pengembalian produk (return rate) yang lebih tinggi?\"**\n",
        "\n",
        "- **Specific**: Fokus pada kontribusi pendapatan berdasarkan kategori produk selama Q1 2017.\n",
        "- **Measurable**: Menghitung kontribusi pendapatan dari tiap kategori produk dan mengukur tingkat pengembalian produk.\n",
        "- **Action-oriented**: Menyediakan informasi untuk perbaikan manajemen inventaris dan pengelolaan kategori produk.\n",
        "- **Relevant**: Membantu dalam memprioritaskan kategori produk untuk strategi pemasaran dan pengelolaan produk.\n",
        "- **Time-bound**: Fokus pada periode Q1 2017.\n",
        "\n",
        "**Teknik Analisis Lanjutan**:\n",
        "- **Clustering**: Mengelompokkan produk berdasarkan kategori dan kontribusi pendapatan untuk melihat pola kategori yang lebih menguntungkan.\n",
        "    - Menganalisis data `products_dataset.csv` dan `order_items_dataset.csv` untuk menghitung kontribusi pendapatan berdasarkan kategori produk.\n",
        "    - Mengukur **tingkat pengembalian produk** dan mengidentifikasi kategori dengan **return rate** tinggi.\n",
        "\n",
        "\n",
        "**4. \"Bagaimana ulasan pelanggan terhadap produk kesehatan dan kecantikan pada tahun 2017, dan apakah ada kategori produk dengan skor ulasan rata-rata di bawah 3 yang perlu diperbaiki?\"**\n",
        "\n",
        "- **Specific**: Fokus pada analisis ulasan pelanggan untuk produk kategori kesehatan dan kecantikan pada tahun 2017.\n",
        "- **Measurable**: Menghitung skor ulasan rata-rata untuk produk di kategori kesehatan dan kecantikan.\n",
        "- **Action-oriented**: Memberikan wawasan untuk memperbaiki kualitas produk atau pelayanan di kategori yang memiliki skor rendah.\n",
        "- **Relevant**: Mengoptimalkan produk di kategori penting untuk meningkatkan kepuasan pelanggan.\n",
        "- **Time-bound**: Analisis terbatas pada tahun 2017.\n",
        "\n",
        "**Teknik Analisis Lanjutan**:\n",
        "- **Sentiment Analysis**: Menganalisis sentimen ulasan pelanggan dengan data dari `order_reviews_dataset.csv` dan `products_dataset.csv` untuk produk kesehatan dan kecantikan.\n",
        "    - Menghitung skor ulasan rata-rata dan mengidentifikasi produk dengan skor ulasan rendah (di bawah 3).\n",
        "    - Menganalisis sentimen positif/negatif untuk memberikan rekomendasi perbaikan pada produk.\n",
        "\n",
        "\n",
        "**5. \"Bagaimana pengaruh metode pembayaran terhadap waktu pengiriman pesanan, dan apakah ada metode pembayaran yang berhubungan dengan waktu pengiriman lebih lama dari rata-rata?\"**\n",
        "\n",
        "- **Specific**: Fokus pada pengaruh metode pembayaran terhadap waktu pengiriman.\n",
        "- **Measurable**: Mengukur hubungan antara metode pembayaran dan waktu pengiriman.\n",
        "- **Action-oriented**: Menyediakan informasi untuk menyesuaikan metode pembayaran dengan efisiensi pengiriman.\n",
        "- **Relevant**: Membantu dalam pengelolaan proses pengiriman dan pengalaman pelanggan.\n",
        "- **Time-bound**: Fokus pada data tahun 2017.\n",
        "\n",
        "**Teknik Analisis Lanjutan**:\n",
        "- **Cross-tabulation Analysis**: Menganalisis hubungan antara metode pembayaran dan waktu pengiriman menggunakan data dari `order_payments_dataset.csv` dan `orders_dataset.csv`.\n",
        "    - Menghitung **waktu pengiriman rata-rata** untuk setiap metode pembayaran.\n",
        "    - Mengidentifikasi pola yang mengindikasikan metode pembayaran yang berhubungan dengan pengiriman lebih lama."
      ]
    },
    {
      "cell_type": "markdown",
      "metadata": {
        "id": "H-z4QGlO8DC1"
      },
      "source": [
        "## Import Semua Packages/Library yang Digunakan"
      ]
    },
    {
      "cell_type": "code",
      "execution_count": 8,
      "metadata": {
        "id": "FVYwaObI8DC1"
      },
      "outputs": [],
      "source": [
        "import pandas as pd\n",
        "import os"
      ]
    },
    {
      "cell_type": "markdown",
      "metadata": {
        "id": "h_Sh51Xy8DC1"
      },
      "source": [
        "## Data Wrangling"
      ]
    },
    {
      "cell_type": "markdown",
      "metadata": {
        "id": "sXU2GBYu8DC1"
      },
      "source": [
        "### Gathering Data"
      ]
    },
    {
      "cell_type": "code",
      "execution_count": 22,
      "metadata": {
        "id": "zjCBk1BI8DC1"
      },
      "outputs": [],
      "source": [
        "# Fungsi untuk membaca file CSV, jika tidak ditemukan di direktori utama, cari di folder \"Dataset\"\n",
        "def read_csv_with_fallback(filename):\n",
        "    try:\n",
        "        # Mencoba membaca file dari direktori utama\n",
        "        return pd.read_csv(filename)\n",
        "    except FileNotFoundError:\n",
        "        # Jika file tidak ditemukan, mencoba di folder \"Dataset\"\n",
        "        if os.path.exists(\"Dataset\"):\n",
        "            try:\n",
        "                return pd.read_csv(os.path.join(\"Dataset\", filename))\n",
        "            except FileNotFoundError:\n",
        "                print(f\"Error: File '{filename}' tidak ditemukan di folder 'Dataset'.\")\n",
        "                return None\n",
        "        else:\n",
        "            print(\"Error: Folder 'Dataset' tidak ditemukan.\")\n",
        "            return None\n",
        "\n",
        "# Baca data dari file CSV\n",
        "customers_df = read_csv_with_fallback(\"customers_dataset.csv\")\n",
        "geolocation_df = read_csv_with_fallback(\"geolocation_dataset.csv\")\n",
        "order_items_df = read_csv_with_fallback(\"order_items_dataset.csv\")\n",
        "order_payments_df = read_csv_with_fallback(\"order_payments_dataset.csv\")\n",
        "order_reviews_df = read_csv_with_fallback(\"order_reviews_dataset.csv\")\n",
        "orders_df = read_csv_with_fallback(\"orders_dataset.csv\")\n",
        "product_category_name_translation_df = read_csv_with_fallback(\"product_category_name_translation.csv\")\n",
        "products_df = read_csv_with_fallback(\"products_dataset.csv\")\n",
        "sellers_df = read_csv_with_fallback(\"sellers_dataset.csv\")"
      ]
    },
    {
      "cell_type": "code",
      "source": [
        "# --- Pertanyaan 1: Performa Waktu Pengiriman di Tiap Kota ---\n",
        "# Gabungkan orders dengan customers (left join)\n",
        "delivery_time_df = pd.merge(orders_df, customers_df, on='customer_id', how='left')"
      ],
      "metadata": {
        "id": "9htS7N-zIp3R"
      },
      "execution_count": 23,
      "outputs": []
    },
    {
      "cell_type": "code",
      "source": [
        "# --- Pertanyaan 2: Hubungan Frekuensi Pembelian dan Total Pengeluaran ---\n",
        "# Gabungkan orders dengan order_items (inner join)\n",
        "customer_spending_df = pd.merge(orders_df, order_items_df, on='order_id', how='inner')\n",
        "\n",
        "# Gabungkan dengan customers (inner join)\n",
        "customer_spending_df = pd.merge(customer_spending_df, customers_df, on='customer_id', how='inner')"
      ],
      "metadata": {
        "id": "P1YvMzBiI1UG"
      },
      "execution_count": 24,
      "outputs": []
    },
    {
      "cell_type": "code",
      "source": [
        "# --- Pertanyaan 3: Kontribusi Kategori Produk dan Return Rate ---\n",
        "# Gabungkan order_items dengan products (inner join)\n",
        "product_revenue_df = pd.merge(order_items_df, products_df, on='product_id', how='inner')\n",
        "\n",
        "# Gabungkan dengan orders (left join) untuk mendapatkan informasi order_status\n",
        "product_revenue_df = pd.merge(product_revenue_df, orders_df, on='order_id', how='left')"
      ],
      "metadata": {
        "id": "0F_a8akhI44G"
      },
      "execution_count": 25,
      "outputs": []
    },
    {
      "cell_type": "code",
      "source": [
        "# --- Pertanyaan 4: Ulasan Produk Kesehatan dan Kecantikan ---\n",
        "# Gabungkan order_reviews dengan orders (inner join)\n",
        "health_beauty_reviews_df = pd.merge(order_reviews_df, orders_df, on='order_id', how='inner')\n",
        "\n",
        "# Gabungkan dengan order_items (inner join)\n",
        "health_beauty_reviews_df = pd.merge(health_beauty_reviews_df, order_items_df, on='order_id', how='inner')\n",
        "\n",
        "# Gabungkan dengan products (inner join)\n",
        "health_beauty_reviews_df = pd.merge(health_beauty_reviews_df, products_df, on='product_id', how='inner')\n",
        "\n",
        "# Gabungkan dengan product_category_name_translation (inner join)"
      ],
      "metadata": {
        "id": "7AmJ9IpUI7MZ"
      },
      "execution_count": 26,
      "outputs": []
    },
    {
      "cell_type": "code",
      "source": [
        "# --- Pertanyaan 5: Pengaruh Metode Pembayaran terhadap Waktu Pengiriman ---\n",
        "# Gabungkan orders dengan order_payments (outer join)\n",
        "payment_delivery_df = pd.merge(orders_df, order_payments_df, on='order_id', how='outer')"
      ],
      "metadata": {
        "id": "G7SOytpuJALQ"
      },
      "execution_count": 27,
      "outputs": []
    },
    {
      "cell_type": "code",
      "execution_count": 13,
      "metadata": {
        "colab": {
          "base_uri": "https://localhost:8080/"
        },
        "id": "pCCJBGSxiNOm",
        "outputId": "650b5bd1-b866-40f2-feaa-37d3561479c0"
      },
      "outputs": [
        {
          "output_type": "stream",
          "name": "stdout",
          "text": [
            "      customer_city  delivery_time_days\n",
            "2        abaetetuba           28.000000\n",
            "3           abaiara           25.000000\n",
            "4             abare           15.000000\n",
            "5            abatia           18.500000\n",
            "6     abdon batista           14.000000\n",
            "...             ...                 ...\n",
            "3285       xinguara           20.250000\n",
            "3286    xique-xique           15.000000\n",
            "3287       zacarias           14.500000\n",
            "3288        ze doca           30.666667\n",
            "3289         zortea           12.000000\n",
            "\n",
            "[2557 rows x 2 columns]\n"
          ]
        }
      ],
      "source": [
        "# Mengonversi kolom tanggal menjadi format datetime\n",
        "orders_df['order_purchase_timestamp'] = pd.to_datetime(orders_df['order_purchase_timestamp'])\n",
        "orders_df['order_delivered_customer_date'] = pd.to_datetime(orders_df['order_delivered_customer_date'])\n",
        "\n",
        "# Menghitung waktu pengiriman\n",
        "orders_df['delivery_time_days'] = (orders_df['order_delivered_customer_date'] - orders_df['order_purchase_timestamp']).dt.days\n",
        "\n",
        "# Menggabungkan data orders dengan customers berdasarkan customer_id\n",
        "merged_df = pd.merge(orders_df, customers_df, on='customer_id', how='inner')\n",
        "\n",
        "# Filter data untuk tahun 2017\n",
        "merged_df['order_purchase_timestamp'] = pd.to_datetime(merged_df['order_purchase_timestamp'])\n",
        "merged_2017_df = merged_df[merged_df['order_purchase_timestamp'].dt.year == 2017]\n",
        "\n",
        "# Menghitung rata-rata waktu pengiriman per kota\n",
        "avg_delivery_time_per_city = merged_2017_df.groupby('customer_city')['delivery_time_days'].mean().reset_index()\n",
        "\n",
        "# Menampilkan kota dengan waktu pengiriman lebih dari 10 hari\n",
        "long_delivery_cities = avg_delivery_time_per_city[avg_delivery_time_per_city['delivery_time_days'] > 10]\n",
        "print(long_delivery_cities)"
      ]
    },
    {
      "cell_type": "code",
      "source": [
        "# Menggabungkan orders_df dengan order_payments_df berdasarkan order_id\n",
        "orders_payments_df = pd.merge(orders_df, order_payments_df, on='order_id', how='inner')\n",
        "\n",
        "# Mengonversi kolom tanggal\n",
        "orders_payments_df['order_purchase_timestamp'] = pd.to_datetime(orders_payments_df['order_purchase_timestamp'])\n",
        "\n",
        "# Filter data untuk tahun 2017\n",
        "orders_payments_2017_df = orders_payments_df[orders_payments_df['order_purchase_timestamp'].dt.year == 2017]\n",
        "\n",
        "# Menghitung total pengeluaran per pelanggan\n",
        "total_spending_per_customer = orders_payments_2017_df.groupby('customer_id')['payment_value'].sum().reset_index()\n",
        "\n",
        "# Menghitung frekuensi pembelian per pelanggan\n",
        "purchase_frequency_per_customer = orders_payments_2017_df.groupby('customer_id')['order_id'].count().reset_index()\n",
        "\n",
        "# Menggabungkan frekuensi pembelian dan total pengeluaran\n",
        "customer_spending_freq_df = pd.merge(total_spending_per_customer, purchase_frequency_per_customer, on='customer_id', how='inner')\n",
        "\n",
        "# Menampilkan hasil\n",
        "print(customer_spending_freq_df)\n"
      ],
      "metadata": {
        "id": "M1x8y0U8Bcij",
        "outputId": "5af93391-3acf-4078-d263-cec26381ddf7",
        "colab": {
          "base_uri": "https://localhost:8080/"
        }
      },
      "execution_count": 15,
      "outputs": [
        {
          "output_type": "stream",
          "name": "stdout",
          "text": [
            "                            customer_id  payment_value  order_id\n",
            "0      00012a2ce6f8dcda20d059ce98491703         114.74         1\n",
            "1      000161a058600d5901f007fab4c27140          67.41         1\n",
            "2      0001fd6190edaaf884bcaf3d49edf079         195.42         1\n",
            "3      0002414f95344307404f0ace7a26f1d5         179.35         1\n",
            "4      0004164d20a9e969af783496f3408652          71.80         1\n",
            "...                                 ...            ...       ...\n",
            "45096  fff89c8ed4fcf69a823c1d149e429a0b          44.10         1\n",
            "45097  fffa0238b217e18a8adeeda0669923a3          43.72         1\n",
            "45098  fffc22669ca576ae3f654ea64c8f36be         101.56         1\n",
            "45099  ffffa3172527f765de70084a7e53aae8          45.50         1\n",
            "45100  ffffe8b65bbe3087b653a978c870db99          18.37         1\n",
            "\n",
            "[45101 rows x 3 columns]\n"
          ]
        }
      ]
    },
    {
      "cell_type": "code",
      "source": [
        "# Menggabungkan order_items_df dengan orders_df berdasarkan order_id\n",
        "order_items_orders_df = pd.merge(order_items_df, orders_df, on='order_id', how='inner')\n",
        "\n",
        "# Menggabungkan dengan products_df berdasarkan product_id\n",
        "order_items_products_df = pd.merge(order_items_orders_df, products_df, on='product_id', how='inner')\n",
        "\n",
        "# Mengonversi kolom tanggal\n",
        "order_items_products_df['order_purchase_timestamp'] = pd.to_datetime(order_items_products_df['order_purchase_timestamp'])\n",
        "\n",
        "# Filter data untuk Q1 2017\n",
        "order_items_q1_2017_df = order_items_products_df[order_items_products_df['order_purchase_timestamp'].dt.year == 2017]\n",
        "order_items_q1_2017_df = order_items_q1_2017_df[order_items_q1_2017_df['order_purchase_timestamp'].dt.month <= 3]\n",
        "\n",
        "# Menghitung total pendapatan per kategori produk\n",
        "order_items_q1_2017_df['revenue'] = order_items_q1_2017_df['price'] * order_items_q1_2017_df['order_item_id']  # Mengasumsikan harga per item\n",
        "revenue_per_category = order_items_q1_2017_df.groupby('product_category_name')['revenue'].sum().reset_index()\n",
        "\n",
        "# Menampilkan kategori produk dengan pendapatan tertinggi\n",
        "print(revenue_per_category.sort_values(by='revenue', ascending=False))\n"
      ],
      "metadata": {
        "id": "yzS1a3iABcxK",
        "outputId": "d9a79a00-1031-4857-98a5-030a2b56af36",
        "colab": {
          "base_uri": "https://localhost:8080/"
        }
      },
      "execution_count": 17,
      "outputs": [
        {
          "output_type": "stream",
          "name": "stdout",
          "text": [
            "                             product_category_name   revenue\n",
            "43                                moveis_decoracao  70604.68\n",
            "8                                     beleza_saude  63598.38\n",
            "26                                   esporte_lazer  59328.10\n",
            "33                              ferramentas_jardim  56443.34\n",
            "10                                 cama_mesa_banho  53883.97\n",
            "35                          informatica_acessorios  49407.05\n",
            "52                              relogios_presentes  47295.07\n",
            "20                                      cool_stuff  43925.82\n",
            "5                                       automotivo  37389.70\n",
            "50                                      perfumaria  33608.59\n",
            "58                           utilidades_domesticas  33490.78\n",
            "44                               moveis_escritorio  31023.47\n",
            "9                                       brinquedos  27366.12\n",
            "16                                  consoles_games  21222.08\n",
            "25                                 eletroportateis  20411.31\n",
            "56                                       telefonia  19857.48\n",
            "51                                        pet_shop  14453.64\n",
            "6                                            bebes  13770.02\n",
            "46                                     moveis_sala  12498.85\n",
            "48                                       papelaria  11079.77\n",
            "27                     fashion_bolsas_e_acessorios   9797.28\n",
            "40                                malas_acessorios   8495.19\n",
            "15                                    climatizacao   8072.61\n",
            "24                                     eletronicos   6582.95\n",
            "49                                             pcs   5748.99\n",
            "38                          livros_interesse_geral   4640.46\n",
            "57                                  telefonia_fixa   4539.49\n",
            "36                           instrumentos_musicais   4478.35\n",
            "41                                    market_place   4235.83\n",
            "1                                        alimentos   3639.40\n",
            "11                                   casa_conforto   2826.96\n",
            "23                              eletrodomesticos_2   2659.56\n",
            "21                                    dvds_blu_ray   1948.20\n",
            "28                                fashion_calcados   1752.65\n",
            "13                                 casa_construcao   1702.16\n",
            "17               construcao_ferramentas_construcao   1420.19\n",
            "31                         fashion_roupa_masculina   1418.45\n",
            "4                                            audio   1377.57\n",
            "55                        tablets_impressao_imagem   1287.00\n",
            "22                                eletrodomesticos   1078.20\n",
            "32                  fashion_underwear_e_moda_praia   1026.35\n",
            "18                   construcao_ferramentas_jardim    869.97\n",
            "19                construcao_ferramentas_seguranca    759.00\n",
            "7                                          bebidas    568.86\n",
            "30                          fashion_roupa_feminina    555.00\n",
            "45                                   moveis_quarto    523.20\n",
            "12                                 casa_conforto_2    415.68\n",
            "0                        agro_industria_e_comercio    394.79\n",
            "42  moveis_cozinha_area_de_servico_jantar_e_jardim    363.88\n",
            "34                   industria_comercio_e_negocios    357.00\n",
            "39                                 livros_tecnicos    234.00\n",
            "3                                            artes    223.25\n",
            "53                              seguros_e_servicos    183.29\n",
            "2                                alimentos_bebidas    110.80\n",
            "37                               livros_importados     99.00\n",
            "54                         sinalizacao_e_seguranca     75.00\n",
            "14                                       cine_foto     59.00\n",
            "47                                          musica     47.79\n",
            "29                                 fashion_esporte     39.90\n"
          ]
        }
      ]
    },
    {
      "cell_type": "code",
      "source": [
        "# Menggabungkan order_reviews_df dengan orders_df untuk mendapatkan order_id\n",
        "order_reviews_orders_df = pd.merge(order_reviews_df, orders_df, on='order_id', how='inner')\n",
        "\n",
        "# Mengonversi kolom tanggal\n",
        "order_reviews_orders_df['review_creation_date'] = pd.to_datetime(order_reviews_orders_df['review_creation_date'])\n",
        "\n",
        "# Filter data untuk tahun 2017\n",
        "order_reviews_2017_df = order_reviews_orders_df[order_reviews_orders_df['review_creation_date'].dt.year == 2017]\n",
        "\n",
        "# Menggabungkan dengan products_df untuk mendapatkan kategori produk\n",
        "order_reviews_products_df = pd.merge(order_reviews_2017_df, products_df, on='product_id', how='inner')\n",
        "\n",
        "# Menghitung rata-rata skor ulasan per kategori produk\n",
        "avg_review_score_per_category = order_reviews_products_df.groupby('product_category_name')['review_score'].mean().reset_index()\n",
        "\n",
        "# Menampilkan kategori produk dengan skor ulasan rata-rata di bawah 3\n",
        "low_score_categories = avg_review_score_per_category[avg_review_score_per_category['review_score'] < 3]\n",
        "print(low_score_categories)\n"
      ],
      "metadata": {
        "id": "ozJ_r3J1Bc6A",
        "outputId": "f6c652c0-649c-4a6f-bbe3-9d8380f31b9d",
        "colab": {
          "base_uri": "https://localhost:8080/",
          "height": 362
        }
      },
      "execution_count": 18,
      "outputs": [
        {
          "output_type": "error",
          "ename": "KeyError",
          "evalue": "'product_id'",
          "traceback": [
            "\u001b[0;31m---------------------------------------------------------------------------\u001b[0m",
            "\u001b[0;31mKeyError\u001b[0m                                  Traceback (most recent call last)",
            "\u001b[0;32m<ipython-input-18-328f0bbed03f>\u001b[0m in \u001b[0;36m<cell line: 11>\u001b[0;34m()\u001b[0m\n\u001b[1;32m      9\u001b[0m \u001b[0;34m\u001b[0m\u001b[0m\n\u001b[1;32m     10\u001b[0m \u001b[0;31m# Menggabungkan dengan products_df untuk mendapatkan kategori produk\u001b[0m\u001b[0;34m\u001b[0m\u001b[0;34m\u001b[0m\u001b[0m\n\u001b[0;32m---> 11\u001b[0;31m \u001b[0morder_reviews_products_df\u001b[0m \u001b[0;34m=\u001b[0m \u001b[0mpd\u001b[0m\u001b[0;34m.\u001b[0m\u001b[0mmerge\u001b[0m\u001b[0;34m(\u001b[0m\u001b[0morder_reviews_2017_df\u001b[0m\u001b[0;34m,\u001b[0m \u001b[0mproducts_df\u001b[0m\u001b[0;34m,\u001b[0m \u001b[0mon\u001b[0m\u001b[0;34m=\u001b[0m\u001b[0;34m'product_id'\u001b[0m\u001b[0;34m,\u001b[0m \u001b[0mhow\u001b[0m\u001b[0;34m=\u001b[0m\u001b[0;34m'inner'\u001b[0m\u001b[0;34m)\u001b[0m\u001b[0;34m\u001b[0m\u001b[0;34m\u001b[0m\u001b[0m\n\u001b[0m\u001b[1;32m     12\u001b[0m \u001b[0;34m\u001b[0m\u001b[0m\n\u001b[1;32m     13\u001b[0m \u001b[0;31m# Menghitung rata-rata skor ulasan per kategori produk\u001b[0m\u001b[0;34m\u001b[0m\u001b[0;34m\u001b[0m\u001b[0m\n",
            "\u001b[0;32m/usr/local/lib/python3.10/dist-packages/pandas/core/reshape/merge.py\u001b[0m in \u001b[0;36mmerge\u001b[0;34m(left, right, how, on, left_on, right_on, left_index, right_index, sort, suffixes, copy, indicator, validate)\u001b[0m\n\u001b[1;32m    168\u001b[0m         )\n\u001b[1;32m    169\u001b[0m     \u001b[0;32melse\u001b[0m\u001b[0;34m:\u001b[0m\u001b[0;34m\u001b[0m\u001b[0;34m\u001b[0m\u001b[0m\n\u001b[0;32m--> 170\u001b[0;31m         op = _MergeOperation(\n\u001b[0m\u001b[1;32m    171\u001b[0m             \u001b[0mleft_df\u001b[0m\u001b[0;34m,\u001b[0m\u001b[0;34m\u001b[0m\u001b[0;34m\u001b[0m\u001b[0m\n\u001b[1;32m    172\u001b[0m             \u001b[0mright_df\u001b[0m\u001b[0;34m,\u001b[0m\u001b[0;34m\u001b[0m\u001b[0;34m\u001b[0m\u001b[0m\n",
            "\u001b[0;32m/usr/local/lib/python3.10/dist-packages/pandas/core/reshape/merge.py\u001b[0m in \u001b[0;36m__init__\u001b[0;34m(self, left, right, how, on, left_on, right_on, left_index, right_index, sort, suffixes, indicator, validate)\u001b[0m\n\u001b[1;32m    792\u001b[0m             \u001b[0mleft_drop\u001b[0m\u001b[0;34m,\u001b[0m\u001b[0;34m\u001b[0m\u001b[0;34m\u001b[0m\u001b[0m\n\u001b[1;32m    793\u001b[0m             \u001b[0mright_drop\u001b[0m\u001b[0;34m,\u001b[0m\u001b[0;34m\u001b[0m\u001b[0;34m\u001b[0m\u001b[0m\n\u001b[0;32m--> 794\u001b[0;31m         ) = self._get_merge_keys()\n\u001b[0m\u001b[1;32m    795\u001b[0m \u001b[0;34m\u001b[0m\u001b[0m\n\u001b[1;32m    796\u001b[0m         \u001b[0;32mif\u001b[0m \u001b[0mleft_drop\u001b[0m\u001b[0;34m:\u001b[0m\u001b[0;34m\u001b[0m\u001b[0;34m\u001b[0m\u001b[0m\n",
            "\u001b[0;32m/usr/local/lib/python3.10/dist-packages/pandas/core/reshape/merge.py\u001b[0m in \u001b[0;36m_get_merge_keys\u001b[0;34m(self)\u001b[0m\n\u001b[1;32m   1308\u001b[0m                         \u001b[0;31m#  the latter of which will raise\u001b[0m\u001b[0;34m\u001b[0m\u001b[0;34m\u001b[0m\u001b[0m\n\u001b[1;32m   1309\u001b[0m                         \u001b[0mlk\u001b[0m \u001b[0;34m=\u001b[0m \u001b[0mcast\u001b[0m\u001b[0;34m(\u001b[0m\u001b[0mHashable\u001b[0m\u001b[0;34m,\u001b[0m \u001b[0mlk\u001b[0m\u001b[0;34m)\u001b[0m\u001b[0;34m\u001b[0m\u001b[0;34m\u001b[0m\u001b[0m\n\u001b[0;32m-> 1310\u001b[0;31m                         \u001b[0mleft_keys\u001b[0m\u001b[0;34m.\u001b[0m\u001b[0mappend\u001b[0m\u001b[0;34m(\u001b[0m\u001b[0mleft\u001b[0m\u001b[0;34m.\u001b[0m\u001b[0m_get_label_or_level_values\u001b[0m\u001b[0;34m(\u001b[0m\u001b[0mlk\u001b[0m\u001b[0;34m)\u001b[0m\u001b[0;34m)\u001b[0m\u001b[0;34m\u001b[0m\u001b[0;34m\u001b[0m\u001b[0m\n\u001b[0m\u001b[1;32m   1311\u001b[0m                         \u001b[0mjoin_names\u001b[0m\u001b[0;34m.\u001b[0m\u001b[0mappend\u001b[0m\u001b[0;34m(\u001b[0m\u001b[0mlk\u001b[0m\u001b[0;34m)\u001b[0m\u001b[0;34m\u001b[0m\u001b[0;34m\u001b[0m\u001b[0m\n\u001b[1;32m   1312\u001b[0m                     \u001b[0;32melse\u001b[0m\u001b[0;34m:\u001b[0m\u001b[0;34m\u001b[0m\u001b[0;34m\u001b[0m\u001b[0m\n",
            "\u001b[0;32m/usr/local/lib/python3.10/dist-packages/pandas/core/generic.py\u001b[0m in \u001b[0;36m_get_label_or_level_values\u001b[0;34m(self, key, axis)\u001b[0m\n\u001b[1;32m   1909\u001b[0m             \u001b[0mvalues\u001b[0m \u001b[0;34m=\u001b[0m \u001b[0mself\u001b[0m\u001b[0;34m.\u001b[0m\u001b[0maxes\u001b[0m\u001b[0;34m[\u001b[0m\u001b[0maxis\u001b[0m\u001b[0;34m]\u001b[0m\u001b[0;34m.\u001b[0m\u001b[0mget_level_values\u001b[0m\u001b[0;34m(\u001b[0m\u001b[0mkey\u001b[0m\u001b[0;34m)\u001b[0m\u001b[0;34m.\u001b[0m\u001b[0m_values\u001b[0m\u001b[0;34m\u001b[0m\u001b[0;34m\u001b[0m\u001b[0m\n\u001b[1;32m   1910\u001b[0m         \u001b[0;32melse\u001b[0m\u001b[0;34m:\u001b[0m\u001b[0;34m\u001b[0m\u001b[0;34m\u001b[0m\u001b[0m\n\u001b[0;32m-> 1911\u001b[0;31m             \u001b[0;32mraise\u001b[0m \u001b[0mKeyError\u001b[0m\u001b[0;34m(\u001b[0m\u001b[0mkey\u001b[0m\u001b[0;34m)\u001b[0m\u001b[0;34m\u001b[0m\u001b[0;34m\u001b[0m\u001b[0m\n\u001b[0m\u001b[1;32m   1912\u001b[0m \u001b[0;34m\u001b[0m\u001b[0m\n\u001b[1;32m   1913\u001b[0m         \u001b[0;31m# Check for duplicates\u001b[0m\u001b[0;34m\u001b[0m\u001b[0;34m\u001b[0m\u001b[0m\n",
            "\u001b[0;31mKeyError\u001b[0m: 'product_id'"
          ]
        }
      ]
    },
    {
      "cell_type": "code",
      "source": [
        "# Menggabungkan orders_df dengan order_payments_df berdasarkan order_id\n",
        "orders_payments_df = pd.merge(orders_df, order_payments_df, on='order_id', how='inner')\n",
        "\n",
        "# Menghitung waktu pengiriman\n",
        "orders_payments_df['delivery_time_days'] = (orders_payments_df['order_delivered_customer_date'] - orders_payments_df['order_purchase_timestamp']).dt.days\n",
        "\n",
        "# Menghitung rata-rata waktu pengiriman per metode pembayaran\n",
        "avg_delivery_time_per_payment_method = orders_payments_df.groupby('payment_type')['delivery_time_days'].mean().reset_index()\n",
        "\n",
        "# Menampilkan metode pembayaran dengan waktu pengiriman lebih lama dari rata-rata\n",
        "average_delivery_time = orders_payments_df['delivery_time_days'].mean()\n",
        "long_delivery_payment_methods = avg_delivery_time_per_payment_method[avg_delivery_time_per_payment_method['delivery_time_days'] > average_delivery_time]\n",
        "print(long_delivery_payment_methods)\n"
      ],
      "metadata": {
        "id": "80GtTMKUBdVv",
        "outputId": "8b079a5b-4808-4035-f155-4977a9687dd0",
        "colab": {
          "base_uri": "https://localhost:8080/"
        }
      },
      "execution_count": 19,
      "outputs": [
        {
          "output_type": "stream",
          "name": "stdout",
          "text": [
            "  payment_type  delivery_time_days\n",
            "0       boleto           13.040071\n",
            "4      voucher           12.208265\n"
          ]
        }
      ]
    },
    {
      "cell_type": "markdown",
      "metadata": {
        "id": "MMi6xGaDkbCi"
      },
      "source": [
        "**Insight:**\n",
        "- xxx\n",
        "- xxx"
      ]
    },
    {
      "cell_type": "markdown",
      "metadata": {
        "id": "FHSiqaZp8DC1"
      },
      "source": [
        "### Assessing Data"
      ]
    },
    {
      "cell_type": "code",
      "execution_count": null,
      "metadata": {
        "id": "ax-3tEjc9Cj1"
      },
      "outputs": [],
      "source": []
    },
    {
      "cell_type": "markdown",
      "metadata": {
        "id": "7dtxhAPrkhPL"
      },
      "source": [
        "**Insight:**\n",
        "- xxx\n",
        "- xxx"
      ]
    },
    {
      "cell_type": "markdown",
      "metadata": {
        "id": "EhN5R4hr8DC1"
      },
      "source": [
        "### Cleaning Data"
      ]
    },
    {
      "cell_type": "code",
      "execution_count": null,
      "metadata": {
        "id": "jVnYpprE9Evz"
      },
      "outputs": [],
      "source": []
    },
    {
      "cell_type": "markdown",
      "metadata": {
        "id": "Q_5ejIqckiSP"
      },
      "source": [
        "**Insight:**\n",
        "- xxx\n",
        "- xxx"
      ]
    },
    {
      "cell_type": "markdown",
      "metadata": {
        "id": "gp-Y6wU38DC1"
      },
      "source": [
        "## Exploratory Data Analysis (EDA)"
      ]
    },
    {
      "cell_type": "markdown",
      "metadata": {
        "id": "MW7WF2kr8DC1"
      },
      "source": [
        "### Explore ..."
      ]
    },
    {
      "cell_type": "code",
      "execution_count": null,
      "metadata": {
        "id": "e9CQCZjk8DC2"
      },
      "outputs": [],
      "source": []
    },
    {
      "cell_type": "markdown",
      "metadata": {
        "id": "th_Lzl2Fkj9O"
      },
      "source": [
        "**Insight:**\n",
        "- xxx\n",
        "- xxx"
      ]
    },
    {
      "cell_type": "markdown",
      "metadata": {
        "id": "zsyZjqak8DC2"
      },
      "source": [
        "## Visualization & Explanatory Analysis"
      ]
    },
    {
      "cell_type": "markdown",
      "metadata": {
        "id": "HZxOiQ6n8DC2"
      },
      "source": [
        "### Pertanyaan 1:"
      ]
    },
    {
      "cell_type": "code",
      "execution_count": null,
      "metadata": {
        "id": "1swJUdAD8DC2"
      },
      "outputs": [],
      "source": []
    },
    {
      "cell_type": "markdown",
      "metadata": {
        "id": "DgHI7CiU8DC2"
      },
      "source": [
        "### Pertanyaan 2:"
      ]
    },
    {
      "cell_type": "code",
      "execution_count": null,
      "metadata": {
        "id": "Go0lCsvO8DC2"
      },
      "outputs": [],
      "source": []
    },
    {
      "cell_type": "markdown",
      "metadata": {
        "id": "_0-36BDLklRg"
      },
      "source": [
        "**Insight:**\n",
        "- xxx\n",
        "- xxx"
      ]
    },
    {
      "cell_type": "markdown",
      "metadata": {
        "id": "9y4VUsmcYNZ5"
      },
      "source": [
        "## Analisis Lanjutan (Opsional)"
      ]
    },
    {
      "cell_type": "code",
      "execution_count": null,
      "metadata": {
        "id": "iWhnzsJGYUCO"
      },
      "outputs": [],
      "source": []
    },
    {
      "cell_type": "markdown",
      "metadata": {
        "id": "_WeHlCeX8DC2"
      },
      "source": [
        "## Conclusion"
      ]
    },
    {
      "cell_type": "markdown",
      "metadata": {
        "id": "ZTcyR48Y8DC2"
      },
      "source": [
        "- Conclution pertanyaan 1\n",
        "- Conclution pertanyaan 2"
      ]
    }
  ],
  "metadata": {
    "colab": {
      "provenance": []
    },
    "kernelspec": {
      "display_name": "Python 3",
      "language": "python",
      "name": "python3"
    },
    "language_info": {
      "codemirror_mode": {
        "name": "ipython",
        "version": 3
      },
      "file_extension": ".py",
      "mimetype": "text/x-python",
      "name": "python",
      "nbconvert_exporter": "python",
      "pygments_lexer": "ipython3",
      "version": "3.11.9"
    },
    "orig_nbformat": 4,
    "vscode": {
      "interpreter": {
        "hash": "972b3bf27e332e87b5379f2791f6ef9dfc79c71018c370b0d7423235e20fe4d7"
      }
    }
  },
  "nbformat": 4,
  "nbformat_minor": 0
}