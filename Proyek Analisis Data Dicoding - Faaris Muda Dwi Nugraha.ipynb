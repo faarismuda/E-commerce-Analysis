{
  "cells": [
    {
      "cell_type": "markdown",
      "metadata": {
        "id": "H9wADwK78DCz"
      },
      "source": [
        "# Proyek Analisis Data: E-Commerce Public Dataset\n",
        "- **Nama:** Faaris Muda Dwi Nugraha\n",
        "- **Email:** faarismudadwinugraha@gmail.com / faarismudawork@gmail.com\n",
        "- **ID Dicoding:** faarismuda"
      ]
    },
    {
      "cell_type": "markdown",
      "metadata": {
        "id": "eE0raob58DC0"
      },
      "source": [
        "## Menentukan Pertanyaan Bisnis"
      ]
    },
    {
      "cell_type": "markdown",
      "metadata": {
        "id": "GmQeQ5YF8DC0"
      },
      "source": [
        "**1. \"Bagaimana performa rata-rata waktu pengiriman di tiap kota pada tahun 2017, dan apakah ada kota dengan waktu pengiriman lebih dari 10 hari yang dapat memperburuk kepuasan pelanggan?\"**\n",
        "\n",
        "- **Specific**: Fokus pada analisis waktu pengiriman di tiap kota pada tahun 2017.\n",
        "- **Measurable**: Mengukur rata-rata waktu pengiriman dan identifikasi kota dengan waktu pengiriman lebih dari 10 hari.\n",
        "- **Action-oriented**: Dapat digunakan untuk mengidentifikasi area yang memerlukan perbaikan dalam hal logistik dan pengiriman.\n",
        "- **Relevant**: Mengoptimalkan waktu pengiriman untuk meningkatkan pengalaman pelanggan dan kepuasan.\n",
        "- **Time-bound**: Membatasi analisis pada tahun 2017.\n",
        "\n",
        "**Teknik Analisis Lanjutan**:\n",
        "- **Geospatial Analysis**: Menganalisis lokasi dan waktu pengiriman menggunakan data dari `orders_dataset.csv` dan `geolocation_dataset.csv`.\n",
        "    - Membuat **heatmap** untuk menunjukkan waktu pengiriman di setiap kota.\n",
        "    - Menghitung **rata-rata waktu pengiriman** per kota dan mengidentifikasi **outlier**.\n",
        "\n",
        "\n",
        "**2. \"Apa hubungan antara frekuensi pembelian pelanggan dan total pengeluaran mereka di tahun 2017, dan bagaimana pola ini memengaruhi segmentasi pelanggan yang paling menguntungkan?\"**\n",
        "\n",
        "- **Specific**: Fokus pada analisis frekuensi pembelian dan total pengeluaran pelanggan di tahun 2017.\n",
        "- **Measurable**: Menghitung frekuensi pembelian dan total pengeluaran pelanggan.\n",
        "- **Action-oriented**: Membantu dalam membuat strategi pemasaran yang ditujukan untuk segmen pelanggan yang menguntungkan.\n",
        "- **Relevant**: Penting untuk strategi retensi pelanggan dan peningkatan pendapatan.\n",
        "- **Time-bound**: Fokus pada data tahun 2017.\n",
        "\n",
        "**Teknik Analisis Lanjutan**:\n",
        "- **RFM Analysis**: Mengukur **recency**, **frequency**, dan **monetary** untuk memahami segmentasi pelanggan berdasarkan perilaku pembelian.\n",
        "    - Menganalisis dataset untuk menghitung **frekuensi** dan **total pengeluaran**.\n",
        "    - Segmentasi pelanggan berdasarkan frekuensi pembelian dan total pengeluaran untuk mengidentifikasi kelompok yang paling menguntungkan.\n",
        "\n",
        "\n",
        "**3. \"Produk kategori mana yang memberikan kontribusi terbesar terhadap pendapatan perusahaan selama Q1 2017, dan apakah ada kategori dengan tingkat pengembalian produk (return rate) yang lebih tinggi?\"**\n",
        "\n",
        "- **Specific**: Fokus pada kontribusi pendapatan berdasarkan kategori produk selama Q1 2017.\n",
        "- **Measurable**: Menghitung kontribusi pendapatan dari tiap kategori produk dan mengukur tingkat pengembalian produk.\n",
        "- **Action-oriented**: Menyediakan informasi untuk perbaikan manajemen inventaris dan pengelolaan kategori produk.\n",
        "- **Relevant**: Membantu dalam memprioritaskan kategori produk untuk strategi pemasaran dan pengelolaan produk.\n",
        "- **Time-bound**: Fokus pada periode Q1 2017.\n",
        "\n",
        "**Teknik Analisis Lanjutan**:\n",
        "- **Clustering**: Mengelompokkan produk berdasarkan kategori dan kontribusi pendapatan untuk melihat pola kategori yang lebih menguntungkan.\n",
        "    - Menganalisis data dataset untuk menghitung kontribusi pendapatan berdasarkan kategori produk.\n",
        "    - Mengukur **tingkat pengembalian produk** dan mengidentifikasi kategori dengan **return rate** tinggi."
      ]
    },
    {
      "cell_type": "markdown",
      "metadata": {
        "id": "H-z4QGlO8DC1"
      },
      "source": [
        "## Import Semua Packages/Library yang Digunakan"
      ]
    },
    {
      "cell_type": "code",
      "execution_count": null,
      "metadata": {
        "id": "FVYwaObI8DC1"
      },
      "outputs": [],
      "source": [
        "import pandas as pd\n",
        "import os\n",
        "import matplotlib.pyplot as plt\n",
        "import seaborn as sns\n",
        "\n",
        "!pip install contextily\n",
        "import contextily as ctx"
      ]
    },
    {
      "cell_type": "markdown",
      "metadata": {
        "id": "h_Sh51Xy8DC1"
      },
      "source": [
        "## Data Wrangling"
      ]
    },
    {
      "cell_type": "markdown",
      "metadata": {
        "id": "sXU2GBYu8DC1"
      },
      "source": [
        "### Gathering Data"
      ]
    },
    {
      "cell_type": "code",
      "execution_count": null,
      "metadata": {
        "id": "zjCBk1BI8DC1"
      },
      "outputs": [],
      "source": [
        "# Baca data dari file CSV\n",
        "customers = pd.read_csv(\"https://raw.githubusercontent.com/faarismuda/E-commerce-Analysis/main/Dataset/customers_dataset.csv\")\n",
        "geolocation = pd.read_csv(\"https://raw.githubusercontent.com/faarismuda/E-commerce-Analysis/main/Dataset/geolocation_dataset.csv\")\n",
        "order_items = pd.read_csv(\"https://raw.githubusercontent.com/faarismuda/E-commerce-Analysis/main/Dataset/order_items_dataset.csv\")\n",
        "order_payments = pd.read_csv(\"https://raw.githubusercontent.com/faarismuda/E-commerce-Analysis/main/Dataset/order_payments_dataset.csv\")\n",
        "order_reviews = pd.read_csv(\"https://raw.githubusercontent.com/faarismuda/E-commerce-Analysis/main/Dataset/order_reviews_dataset.csv\")\n",
        "orders = pd.read_csv(\"https://raw.githubusercontent.com/faarismuda/E-commerce-Analysis/main/Dataset/orders_dataset.csv\", parse_dates=['order_purchase_timestamp', 'order_delivered_customer_date'])\n",
        "product_category_name_translation = pd.read_csv(\"https://raw.githubusercontent.com/faarismuda/E-commerce-Analysis/main/Dataset/product_category_name_translation.csv\")\n",
        "products = pd.read_csv(\"https://raw.githubusercontent.com/faarismuda/E-commerce-Analysis/main/Dataset/products_dataset.csv\")\n",
        "sellers = pd.read_csv(\"https://raw.githubusercontent.com/faarismuda/E-commerce-Analysis/main/Dataset/sellers_dataset.csv\")"
      ]
    },
    {
      "cell_type": "markdown",
      "source": [
        "**Q1**"
      ],
      "metadata": {
        "id": "3SMBsel6R3mc"
      }
    },
    {
      "cell_type": "code",
      "source": [
        "# Filter orders dari tahun 2017\n",
        "orders['order_year'] = orders['order_purchase_timestamp'].dt.year\n",
        "orders_2017 = orders[orders['order_year'] == 2017]\n",
        "\n",
        "# Hitung waktu pengiriman\n",
        "orders_2017['delivery_duration'] = (orders_2017['order_delivered_customer_date'] - orders_2017['order_purchase_timestamp']).dt.days\n",
        "\n",
        "# Gabungkan orders dengan customers untuk mendapatkan informasi kota\n",
        "orders_customers = pd.merge(orders_2017, customers, on='customer_id', how='left')\n",
        "\n",
        "# Gabung dengan reviews untuk mendapatkan skor review\n",
        "orders_customers_reviews = pd.merge(orders_customers, order_reviews[['order_id', 'review_score']], on='order_id', how='left')\n",
        "\n",
        "# Gabung dengan geolocation untuk mendapatkan latitude dan longitude\n",
        "geolocation_unique = geolocation.drop_duplicates(subset=['geolocation_zip_code_prefix', 'geolocation_city'])\n",
        "merged_data = pd.merge(orders_customers_reviews, geolocation_unique,\n",
        "                       left_on='customer_zip_code_prefix', right_on='geolocation_zip_code_prefix',\n",
        "                       how='left')\n",
        "\n",
        "# Final dataset\n",
        "data_q1 = merged_data[['order_id', 'customer_city', 'delivery_duration', 'review_score',\n",
        "                          'geolocation_lat', 'geolocation_lng']]\n",
        "\n",
        "# Simpan dataset ke CSV\n",
        "data_q1.to_csv('data_q1.csv', index=False)\n",
        "\n",
        "data_q1.head()"
      ],
      "metadata": {
        "id": "Vl6ntxuQQ_zK"
      },
      "execution_count": null,
      "outputs": []
    },
    {
      "cell_type": "markdown",
      "source": [
        "**Q2**"
      ],
      "metadata": {
        "id": "E4phHp-rR-Ow"
      }
    },
    {
      "cell_type": "code",
      "source": [
        "# Filter orders dari tahun 2017\n",
        "orders['order_purchase_timestamp'] = pd.to_datetime(orders['order_purchase_timestamp'])\n",
        "orders_2017 = orders[orders['order_purchase_timestamp'].dt.year == 2017]\n",
        "\n",
        "# Gabungkan orders_2017 dengan order_items\n",
        "data_q2 = orders_2017.merge(order_items, on='order_id', how='inner')\n",
        "\n",
        "# Gabungkan dengan customers untuk mendapatkan customer_unique_id\n",
        "data_q2 = data_q2.merge(customers, on='customer_id', how='inner')\n",
        "\n",
        "# Gabungkan dengan order_payments untuk validasi total pembayaran\n",
        "data_q2 = data_q2.merge(order_payments, on='order_id', how='left')\n",
        "\n",
        "# Tambahkan kolom total pengeluaran (price + freight_value)\n",
        "data_q2['total_spent'] = data_q2['price'] + data_q2['freight_value']\n",
        "\n",
        "# Final dataset\n",
        "data_q2 = data_q2[['customer_unique_id', 'order_id', 'order_purchase_timestamp',\n",
        "                               'price', 'freight_value', 'total_spent',\n",
        "                               'payment_value', 'payment_type']]\n",
        "\n",
        "# Simpan dataset ke CSV\n",
        "data_q2.to_csv('data_q2.csv', index=False)\n",
        "\n",
        "data_q2.head()"
      ],
      "metadata": {
        "id": "CGNRzz-jR_AO"
      },
      "execution_count": null,
      "outputs": []
    },
    {
      "cell_type": "markdown",
      "source": [
        "**Q3**"
      ],
      "metadata": {
        "id": "rrtoou5FR-Z3"
      }
    },
    {
      "cell_type": "code",
      "source": [],
      "metadata": {
        "id": "P3nD47e4R-4X"
      },
      "execution_count": null,
      "outputs": []
    },
    {
      "cell_type": "markdown",
      "metadata": {
        "id": "MMi6xGaDkbCi"
      },
      "source": [
        "**Insight:**\n",
        "- xxx\n",
        "- xxx"
      ]
    },
    {
      "cell_type": "markdown",
      "metadata": {
        "id": "FHSiqaZp8DC1"
      },
      "source": [
        "### Assessing Data"
      ]
    },
    {
      "cell_type": "markdown",
      "source": [
        "**Q1**"
      ],
      "metadata": {
        "id": "sfuZgXxjS0mJ"
      }
    },
    {
      "cell_type": "code",
      "source": [
        "# 1. Melihat informasi umum\n",
        "print(\"Informasi Dataset:\")\n",
        "print(data_q1.info())\n",
        "\n",
        "# 2. Statistik Deskriptif\n",
        "print(\"\\nStatistik Deskriptif:\")\n",
        "print(data_q1.describe(include='all'))\n",
        "\n",
        "# 3. Memeriksa nilai yang hilang\n",
        "print(\"\\nJumlah Nilai yang Hilang per Kolom:\")\n",
        "print(data_q1.isnull().sum())\n",
        "\n",
        "# 4. Memeriksa duplikasi\n",
        "print(\"\\nJumlah Baris Duplikat:\")\n",
        "print(data_q1.duplicated().sum())\n",
        "\n",
        "# 5. Melihat nilai unik dalam kolom kategorikal\n",
        "print(\"\\nNilai Unik Kolom 'customer_city':\")\n",
        "print(data_q1['customer_city'].unique())\n",
        "\n",
        "# 6. Validasi nilai aneh atau outlier\n",
        "outliers = data_q1[data_q1['delivery_duration'] < 0]\n",
        "print(\"\\nBaris dengan Durasi Pengiriman Negatif (Outlier):\")\n",
        "print(outliers)"
      ],
      "metadata": {
        "id": "KnvDClvvS5sI"
      },
      "execution_count": null,
      "outputs": []
    },
    {
      "cell_type": "markdown",
      "source": [
        "**Q2**"
      ],
      "metadata": {
        "id": "6zbu-YTiS2vF"
      }
    },
    {
      "cell_type": "code",
      "source": [
        "# 1. Melihat informasi umum\n",
        "print(\"Informasi Dataset:\")\n",
        "print(data_q2.info())\n",
        "\n",
        "# 2. Statistik Deskriptif\n",
        "print(\"\\nStatistik Deskriptif:\")\n",
        "print(data_q2.describe(include='all'))\n",
        "\n",
        "# 3. Memeriksa nilai yang hilang\n",
        "print(\"\\nJumlah Nilai yang Hilang per Kolom:\")\n",
        "print(data_q2.isnull().sum())\n",
        "\n",
        "# 4. Memeriksa duplikasi\n",
        "print(\"\\nJumlah Baris Duplikat:\")\n",
        "print(data_q2.duplicated().sum())\n",
        "\n",
        "# 5. Melihat nilai unik\n",
        "print(\"\\nCek Nilai Unik:\")\n",
        "print(data_q2.nunique())\n",
        "\n",
        "# 6. Validasi konsistensi data: memastikan `total_spent` >= 0\n",
        "invalid_total_spent = data_q2[data_q2['total_spent'] < 0]\n",
        "if not invalid_total_spent.empty:\n",
        "    print(\"\\nBaris dengan 'total_spent' tidak valid (kurang dari 0):\")\n",
        "    print(invalid_total_spent)\n",
        "\n",
        "# 7. Validasi `payment_value` vs `total_spent`\n",
        "# Jika ada selisih yang terlalu besar, data bisa dianalisis lebih lanjut atau dihapus\n",
        "data_q2['payment_difference'] = abs(data_q2['payment_value'] - data_q2['total_spent'])\n",
        "invalid_payments = data_q2[data_q2['payment_difference'] > 100]  # Toleransi selisih 100\n",
        "if not invalid_payments.empty:\n",
        "    print(\"\\nBaris dengan perbedaan signifikan antara 'payment_value' dan 'total_spent':\")\n",
        "    print(invalid_payments)"
      ],
      "metadata": {
        "id": "3YJJPPCZS2Lv"
      },
      "execution_count": null,
      "outputs": []
    },
    {
      "cell_type": "markdown",
      "source": [
        "**Q3**"
      ],
      "metadata": {
        "id": "4kaSQRj3S21l"
      }
    },
    {
      "cell_type": "code",
      "source": [],
      "metadata": {
        "id": "f6K3Ut1ZS5pb"
      },
      "execution_count": null,
      "outputs": []
    },
    {
      "cell_type": "markdown",
      "metadata": {
        "id": "7dtxhAPrkhPL"
      },
      "source": [
        "**Insight:**\n",
        "- xxx\n",
        "- xxx"
      ]
    },
    {
      "cell_type": "markdown",
      "metadata": {
        "id": "EhN5R4hr8DC1"
      },
      "source": [
        "### Cleaning Data"
      ]
    },
    {
      "cell_type": "markdown",
      "source": [
        "**Q1**"
      ],
      "metadata": {
        "id": "vIZfmsofS_-W"
      }
    },
    {
      "cell_type": "code",
      "source": [
        "# Menghapus duplikasi\n",
        "data_q1_cleaned = data_q1.drop_duplicates()\n",
        "print(\"\\nSetelah Menghapus Duplikasi, Total Baris:\", len(data_q1_cleaned))\n",
        "\n",
        "# Menghapus baris dengan nilai yang hilang secara signifikan\n",
        "data_q1_cleaned = data_q1_cleaned.dropna(subset=['delivery_duration', 'review_score', 'geolocation_lat', 'geolocation_lng'])\n",
        "\n",
        "# Memastikan tipe data sesuai\n",
        "data_q1_cleaned['delivery_duration'] = data_q1_cleaned['delivery_duration'].astype(float)\n",
        "data_q1_cleaned['review_score'] = data_q1_cleaned['review_score'].astype(float)\n",
        "\n",
        "# Simpan dataset yang sudah bersih\n",
        "data_q1_cleaned.to_csv('data_q1_cleaned.csv', index=False)\n",
        "\n",
        "print(\"\\nDataset telah dibersihkan. Total Baris Setelah Cleaning:\", len(data_q1_cleaned))\n"
      ],
      "metadata": {
        "id": "KsqUXvWGS62y"
      },
      "execution_count": null,
      "outputs": []
    },
    {
      "cell_type": "markdown",
      "source": [
        "**Q2**"
      ],
      "metadata": {
        "id": "or8mXi-XTAIz"
      }
    },
    {
      "cell_type": "code",
      "source": [
        "# Menghapus duplikasi\n",
        "data_q2_cleaned = data_q2.drop_duplicates()\n",
        "\n",
        "# Konversi tipe data\n",
        "data_q2_cleaned['order_purchase_timestamp'] = pd.to_datetime(data_q2_cleaned['order_purchase_timestamp'])  # Pastikan kolom datetime benar\n",
        "\n",
        "# Drop baris dengan payment_difference besar\n",
        "data_q2_cleaned = data_q2_cleaned[data_q2_cleaned['payment_difference'] <= 100]\n",
        "\n",
        "# Menambahkan kolom baru untuk analisis\n",
        "# Kolom 'month' untuk analisis musiman\n",
        "data_q2_cleaned['month'] = data_q2_cleaned['order_purchase_timestamp'].dt.month\n",
        "\n",
        "# Simpan dataset yang sudah bersih\n",
        "data_q2_cleaned.to_csv('data_q2_cleaned.csv', index=False)\n",
        "\n",
        "print(\"\\nDataset telah dibersihkan. Total Baris Setelah Cleaning:\", len(data_q2_cleaned))\n"
      ],
      "metadata": {
        "id": "kK4-yettS-QE"
      },
      "execution_count": null,
      "outputs": []
    },
    {
      "cell_type": "markdown",
      "source": [
        "**Q3**"
      ],
      "metadata": {
        "id": "yOlZo4SETARe"
      }
    },
    {
      "cell_type": "code",
      "source": [],
      "metadata": {
        "id": "ZzXGQ9QAS-XO"
      },
      "execution_count": null,
      "outputs": []
    },
    {
      "cell_type": "markdown",
      "metadata": {
        "id": "Q_5ejIqckiSP"
      },
      "source": [
        "**Insight:**\n",
        "- xxx\n",
        "- xxx"
      ]
    },
    {
      "cell_type": "markdown",
      "metadata": {
        "id": "gp-Y6wU38DC1"
      },
      "source": [
        "## Exploratory Data Analysis (EDA)"
      ]
    },
    {
      "cell_type": "markdown",
      "metadata": {
        "id": "MW7WF2kr8DC1"
      },
      "source": [
        "### Explore Q1"
      ]
    },
    {
      "cell_type": "code",
      "source": [
        "# Load cleaned data\n",
        "data_q1_cleaned = pd.read_csv('data_q1_cleaned.csv')\n",
        "\n",
        "# === 1. Analisis Rata-Rata Waktu Pengiriman di Tiap Kota ===\n",
        "\n",
        "# Hitung rata-rata waktu pengiriman per kota\n",
        "city_delivery_stats = data_q1_cleaned.groupby('customer_city')['delivery_duration'].agg(['mean', 'count']).reset_index()\n",
        "city_delivery_stats.rename(columns={'mean': 'avg_delivery_duration', 'count': 'order_count'}, inplace=True)\n",
        "\n",
        "# Tampilkan kota dengan rata-rata waktu pengiriman tertinggi\n",
        "top_delivery_cities = city_delivery_stats.sort_values(by='avg_delivery_duration', ascending=False).head(10)\n",
        "print(\"\\nTop 10 Kota dengan Rata-Rata Waktu Pengiriman Tertinggi:\")\n",
        "print(top_delivery_cities)\n",
        "\n",
        "\n",
        "# === 2. Hubungan Waktu Pengiriman dengan Skor Ulasan ===\n",
        "review_stats = data_q1_cleaned.groupby('delivery_duration')['review_score'].mean().reset_index()\n",
        "print(\"\\nHubungan Waktu Pengiriman dengan Skor Ulasan:\")\n",
        "print(review_stats)"
      ],
      "metadata": {
        "id": "o9dzJyoy5YKi"
      },
      "execution_count": null,
      "outputs": []
    },
    {
      "cell_type": "markdown",
      "metadata": {
        "id": "th_Lzl2Fkj9O"
      },
      "source": [
        "**Insight:**\n",
        "- xxx\n",
        "- xxx"
      ]
    },
    {
      "cell_type": "markdown",
      "source": [
        "### Explore Q2"
      ],
      "metadata": {
        "id": "j58TJjOhZ54f"
      }
    },
    {
      "cell_type": "code",
      "source": [
        "# === 1. Menghitung RFM Metrics ===\n",
        "rfm = data_q2_cleaned.groupby('customer_unique_id').agg({\n",
        "    'order_purchase_timestamp': lambda x: (pd.Timestamp('2018-01-01') - pd.to_datetime(x).max()).days,  # Recency\n",
        "    'order_id': 'count',  # Frequency\n",
        "    'total_spent': 'sum'  # Monetary\n",
        "}).reset_index()\n",
        "\n",
        "rfm.columns = ['customer_unique_id', 'recency', 'frequency', 'monetary']\n",
        "\n",
        "# Menambahkan RFM Score untuk segmentasi\n",
        "rfm['R_score'] = pd.qcut(rfm['recency'], 4, labels=[4, 3, 2, 1])\n",
        "rfm['F_score'] = pd.cut(\n",
        "    rfm['frequency'],\n",
        "    bins=[0, 1, 2, 5, rfm['frequency'].max()],  # Tentukan bin secara manual\n",
        "    labels=[1, 2, 3, 4],                       # Tetapkan skor\n",
        "    include_lowest=True                        # Sertakan nilai batas bawah\n",
        ")\n",
        "rfm['M_score'] = pd.qcut(rfm['monetary'], 4, labels=[1, 2, 3, 4])\n",
        "\n",
        "rfm['RFM_score'] = rfm['R_score'].astype(int) + rfm['F_score'].astype(int) + rfm['M_score'].astype(int)\n",
        "\n",
        "# Membuat Segmentasi Pelanggan\n",
        "def segment_customers(rfm_score):\n",
        "    if rfm_score >= 10:\n",
        "        return 'Best Customers'\n",
        "    elif rfm_score >= 7:\n",
        "        return 'Loyal Customers'\n",
        "    elif rfm_score >= 5:\n",
        "        return 'At Risk'\n",
        "    else:\n",
        "        return 'Lost Customers'\n",
        "\n",
        "rfm['segment'] = rfm['RFM_score'].apply(segment_customers)"
      ],
      "metadata": {
        "id": "gpCN2LDsZ5en"
      },
      "execution_count": null,
      "outputs": []
    },
    {
      "cell_type": "markdown",
      "metadata": {
        "id": "-wu4D6zBr5AV"
      },
      "source": [
        "**Insight:**\n",
        "- xxx\n",
        "- xxx"
      ]
    },
    {
      "cell_type": "markdown",
      "source": [
        "### Explore Q3"
      ],
      "metadata": {
        "id": "8zhoGdl0ryBO"
      }
    },
    {
      "cell_type": "code",
      "source": [],
      "metadata": {
        "id": "eH0rrZLfryUG"
      },
      "execution_count": null,
      "outputs": []
    },
    {
      "cell_type": "markdown",
      "metadata": {
        "id": "L4zgrtIQaC2y"
      },
      "source": [
        "**Insight:**\n",
        "- xxx\n",
        "- xxx"
      ]
    },
    {
      "cell_type": "markdown",
      "metadata": {
        "id": "zsyZjqak8DC2"
      },
      "source": [
        "## Visualization & Explanatory Analysis"
      ]
    },
    {
      "cell_type": "markdown",
      "metadata": {
        "id": "HZxOiQ6n8DC2"
      },
      "source": [
        "### Pertanyaan 1:"
      ]
    },
    {
      "cell_type": "code",
      "source": [
        "# Bar Plot Rata-Rata Waktu Pengiriman di Kota Teratas\n",
        "plt.figure(figsize=(12, 8))\n",
        "sns.barplot(data=top_delivery_cities, x='avg_delivery_duration', y='customer_city', palette='viridis')\n",
        "plt.title('Top 10 Kota dengan Rata-Rata Waktu Pengiriman Tertinggi')\n",
        "plt.xlabel('Rata-Rata Waktu Pengiriman (Hari)')\n",
        "plt.ylabel('Kota')\n",
        "plt.tight_layout()\n",
        "plt.savefig('top_cities_delivery.png')\n",
        "plt.show()\n",
        "\n",
        "# Scatter Plot Hubungan Waktu Pengiriman dan Skor Ulasan\n",
        "plt.figure(figsize=(12, 8))\n",
        "sns.scatterplot(data=review_stats, x='delivery_duration', y='review_score', color='blue')\n",
        "plt.axvline(x=10, color='red', linestyle='--', label='10 Hari (Threshold)')\n",
        "plt.title('Hubungan Waktu Pengiriman dan Skor Ulasan')\n",
        "plt.xlabel('Durasi Pengiriman (Hari)')\n",
        "plt.ylabel('Skor Rata-Rata Ulasan')\n",
        "plt.legend()\n",
        "plt.tight_layout()\n",
        "plt.savefig('delivery_vs_review.png')\n",
        "plt.show()\n",
        "\n",
        "# Plot Heatmap\n",
        "plt.figure(figsize=(12, 8))\n",
        "ax = sns.kdeplot(\n",
        "    data=data_q1_cleaned,\n",
        "    x='geolocation_lng',\n",
        "    y='geolocation_lat',\n",
        "    weights=data_q1_cleaned['delivery_duration'],\n",
        "    cmap='coolwarm',\n",
        "    fill=True,\n",
        "    alpha=0.5\n",
        ")\n",
        "\n",
        "# Menambahkan peta dasar\n",
        "ctx.add_basemap(ax, crs='EPSG:4326', source=ctx.providers.OpenTopoMap)\n",
        "\n",
        "# Memperbesar tampilan sesuai fokus (Brasil dan sekitarnya)\n",
        "ax.set_xlim([-65, -25])  # Rentang longitude\n",
        "ax.set_ylim([-40, 15])   # Rentang latitude\n",
        "\n",
        "# Atur rasio aspek\n",
        "ax.set_aspect('equal', adjustable='datalim')  # Rasio latitude dan longitude sama\n",
        "\n",
        "# Tambahkan judul dan label\n",
        "plt.title('Heatmap Rata-Rata Durasi Pengiriman (Wilayah Fokus)')\n",
        "plt.xlabel('Longitude')\n",
        "plt.ylabel('Latitude')\n",
        "plt.tight_layout()\n",
        "\n",
        "# Simpan dan tampilkan\n",
        "plt.savefig('delivery_heatmap.png')\n",
        "plt.show()"
      ],
      "metadata": {
        "id": "pJ0rZR6CHpUg"
      },
      "execution_count": null,
      "outputs": []
    },
    {
      "cell_type": "markdown",
      "metadata": {
        "id": "9sr8AGUbHr1I"
      },
      "source": [
        "**Insight:**\n",
        "- xxx\n",
        "- xxx"
      ]
    },
    {
      "cell_type": "markdown",
      "metadata": {
        "id": "25WWoQmJQRbX"
      },
      "source": [
        "### Pertanyaan 2:"
      ]
    },
    {
      "cell_type": "code",
      "execution_count": null,
      "metadata": {
        "id": "Go0lCsvO8DC2"
      },
      "outputs": [],
      "source": [
        "# Distribusi Frekuensi Pembelian\n",
        "plt.figure(figsize=(12, 8))\n",
        "sns.histplot(rfm['frequency'], bins=20, kde=True)\n",
        "plt.title('Distribusi Frekuensi Pembelian')\n",
        "plt.xlabel('Frekuensi Pembelian')\n",
        "plt.ylabel('Jumlah Pelanggan')\n",
        "plt.show()\n",
        "\n",
        "# Distribusi Total Pengeluaran\n",
        "plt.figure(figsize=(12, 8))\n",
        "sns.histplot(rfm['monetary'], bins=20, kde=True, color='orange')\n",
        "plt.title('Distribusi Total Pengeluaran')\n",
        "plt.xlabel('Total Pengeluaran (Monetary)')\n",
        "plt.ylabel('Jumlah Pelanggan')\n",
        "plt.show()\n",
        "\n",
        "# Hubungan antara Frekuensi dan Total Pengeluaran\n",
        "plt.figure(figsize=(12, 8))\n",
        "sns.scatterplot(data=rfm, x='frequency', y='monetary', hue='segment', palette='viridis')\n",
        "plt.title('Hubungan antara Frekuensi Pembelian dan Total Pengeluaran')\n",
        "plt.xlabel('Frekuensi Pembelian')\n",
        "plt.ylabel('Total Pengeluaran')\n",
        "plt.legend(title='Segmentasi Pelanggan')\n",
        "plt.show()\n",
        "\n",
        "# Segmentasi Pelanggan (RFM Heatmap)\n",
        "rfm_summary = rfm.groupby('segment').agg({\n",
        "    'customer_unique_id': 'count',\n",
        "    'frequency': 'mean',\n",
        "    'monetary': 'mean'\n",
        "}).sort_values(by='monetary', ascending=False)\n",
        "\n",
        "plt.figure(figsize=(12, 8))\n",
        "sns.heatmap(rfm_summary[['frequency', 'monetary']], annot=True, fmt='.2f', cmap='coolwarm', linewidths=0.5)\n",
        "plt.title('RFM Summary (Segmentasi Pelanggan)')\n",
        "plt.ylabel('Segmentasi')\n",
        "plt.show()"
      ]
    },
    {
      "cell_type": "markdown",
      "metadata": {
        "id": "_0-36BDLklRg"
      },
      "source": [
        "**Insight:**\n",
        "- xxx\n",
        "- xxx"
      ]
    },
    {
      "cell_type": "markdown",
      "metadata": {
        "id": "DgHI7CiU8DC2"
      },
      "source": [
        "### Pertanyaan 3:"
      ]
    },
    {
      "cell_type": "code",
      "source": [],
      "metadata": {
        "id": "vC98E6sHQV-0"
      },
      "execution_count": null,
      "outputs": []
    },
    {
      "cell_type": "markdown",
      "metadata": {
        "id": "MyqjQycjQXoB"
      },
      "source": [
        "**Insight:**\n",
        "- xxx\n",
        "- xxx"
      ]
    },
    {
      "cell_type": "markdown",
      "metadata": {
        "id": "9y4VUsmcYNZ5"
      },
      "source": [
        "## Analisis Lanjutan"
      ]
    },
    {
      "cell_type": "code",
      "execution_count": null,
      "metadata": {
        "id": "iWhnzsJGYUCO"
      },
      "outputs": [],
      "source": []
    },
    {
      "cell_type": "markdown",
      "metadata": {
        "id": "_WeHlCeX8DC2"
      },
      "source": [
        "## Conclusion"
      ]
    },
    {
      "cell_type": "markdown",
      "metadata": {
        "id": "ZTcyR48Y8DC2"
      },
      "source": [
        "- Conclusion pertanyaan 1\n",
        "- Conclusion pertanyaan 2\n",
        "- Conclusion pertanyaan 3"
      ]
    }
  ],
  "metadata": {
    "colab": {
      "provenance": []
    },
    "kernelspec": {
      "display_name": "Python 3",
      "language": "python",
      "name": "python3"
    },
    "language_info": {
      "codemirror_mode": {
        "name": "ipython",
        "version": 3
      },
      "file_extension": ".py",
      "mimetype": "text/x-python",
      "name": "python",
      "nbconvert_exporter": "python",
      "pygments_lexer": "ipython3",
      "version": "3.11.9"
    },
    "orig_nbformat": 4,
    "vscode": {
      "interpreter": {
        "hash": "972b3bf27e332e87b5379f2791f6ef9dfc79c71018c370b0d7423235e20fe4d7"
      }
    }
  },
  "nbformat": 4,
  "nbformat_minor": 0
}